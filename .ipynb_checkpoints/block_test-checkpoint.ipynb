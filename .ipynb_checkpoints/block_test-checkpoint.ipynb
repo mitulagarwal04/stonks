{
 "cells": [
  {
   "cell_type": "code",
   "execution_count": 1,
   "metadata": {},
   "outputs": [],
   "source": [
    "import requests\n",
    "from bs4 import BeautifulSoup\n",
    "import os\n",
    "import pandas as pd \n",
    "from pathlib import Path"
   ]
  },
  {
   "cell_type": "code",
   "execution_count": 2,
   "metadata": {},
   "outputs": [],
   "source": [
    "url = \"https://www.moneycontrol.com/news/business/stocks/\"\n",
    "response = requests.get(url, headers={'User-Agent':'Mozilla/5.0'})\n",
    "soup = BeautifulSoup(response.text, \"html.parser\")"
   ]
  },
  {
   "cell_type": "code",
   "execution_count": 74,
   "metadata": {
    "scrolled": true
   },
   "outputs": [],
   "source": [
    "blobs = soup.section.div.ul.find_all(\"li\")"
   ]
  },
  {
   "cell_type": "code",
   "execution_count": 112,
   "metadata": {},
   "outputs": [],
   "source": [
    "all_links = []\n",
    "count_links = len(soup.section.div.ul.find_all('li'))\n",
    "\n",
    "for i in range(count_links):\n",
    "    news_link = soup.section.div.ul.find_all('li')[i].find('a').get('href')\n",
    "    all_links.append(news_link)"
   ]
  },
  {
   "cell_type": "code",
   "execution_count": 113,
   "metadata": {},
   "outputs": [
    {
     "data": {
      "text/plain": [
       "['https://www.moneycontrol.com/news/business/markets/bulk-deals-porinju-veliyath-s-portfolio-buys-0-51-stake-in-greaves-cotton-12920733.html',\n",
       " 'https://www.moneycontrol.com/news/business/itc-demerger-itc-hotels-shares-to-be-listed-on-bse-nse-on-january-29-12920657.html',\n",
       " 'https://www.moneycontrol.com/news/business/stocks/top-gainers-and-losers-today-stocks-that-moved-the-most-on-jan-27-12920477.html',\n",
       " 'https://www.moneycontrol.com/news/business/markets/taking-stock-nifty-below-22-850-sensex-down-824-points-it-media-worst-hit-12920362.html',\n",
       " 'https://www.moneycontrol.com/promos/pro.php',\n",
       " 'https://www.moneycontrol.com/promos/pro.php',\n",
       " 'https://www.moneycontrol.com/promos/pro.php',\n",
       " 'https://www.moneycontrol.com/promos/pro.php',\n",
       " 'https://www.moneycontrol.com/news/videos/business/markets/live-what-s-next-for-investors-decoding-budget-us-fed-decision-closing-bell-12920450.html',\n",
       " 'https://www.moneycontrol.com/news/business/markets/lt-foods-share-plunges-9-on-dismal-q3-earnings-show-12920405.html',\n",
       " 'https://www.moneycontrol.com/news/business/stocks/agri-picks-report-january-27-2025-geojit-financial-services-12920400.html',\n",
       " 'https://www.moneycontrol.com/news/business/stocks/subscribe-for-dr-agarwals-health-care-ltd-ipo-anand-rathi-12920378.html',\n",
       " 'https://www.moneycontrol.com/promos/pro.php',\n",
       " 'https://www.moneycontrol.com/news/business/markets/laurus-labs-assures-no-significant-impact-of-aids-relief-funding-halt-by-trump-2-0-12920371.html',\n",
       " 'https://www.moneycontrol.com/news/business/stocks/buy-granules-india-target-of-rs-700-kr-choksey-2-12920349.html',\n",
       " 'https://www.moneycontrol.com/news/business/stocks/accumulate-laurus-labs-target-of-rs-687-kr-choksey-12920355.html',\n",
       " 'https://www.moneycontrol.com/news/business/markets/omaxe-shares-soar-4-on-collaborative-project-plan-with-rs-5-000-crore-revenue-potential-12920341.html',\n",
       " 'https://www.moneycontrol.com/promos/pro.php',\n",
       " 'https://www.moneycontrol.com/news/business/stocks/buy-icici-bank-target-of-rs-1470-lkp-research-12920345.html',\n",
       " 'https://www.moneycontrol.com/news/business/stocks/dam-capital-shares-soar-12-after-firm-reports-144-surge-in-q3-net-profit-12920163.html',\n",
       " 'https://www.moneycontrol.com/news/business/stocks/buy-hpcl-target-of-rs-450-emkay-global-financial-12920286.html',\n",
       " 'https://www.moneycontrol.com/news/business/stocks/buy-interglobe-aviation-target-of-rs-5300-emkay-global-financial-12920281.html',\n",
       " 'https://www.moneycontrol.com/promos/pro.php',\n",
       " 'https://www.moneycontrol.com/news/business/stocks/buy-icici-bank-target-of-rs-1450-emkay-global-financial-3-12920251.html',\n",
       " 'https://www.moneycontrol.com/news/business/stocks/buy-puravankara-target-of-rs-430-emkay-global-financial-12920249.html',\n",
       " 'https://www.moneycontrol.com/news/business/stocks/indigo-shares-gain-over-1-after-q3-results-surpass-brokerage-estimates-12920129.html',\n",
       " 'https://www.moneycontrol.com/news/business/stocks/reduce-au-small-finance-bank-target-of-rs-625-emkay-global-financial-2-12920244.html',\n",
       " 'https://www.moneycontrol.com/promos/pro.php',\n",
       " 'https://www.moneycontrol.com/news/business/stocks/reduce-godrej-consumer-products-target-of-rs-1100-emkay-global-financial-12920236.html',\n",
       " 'https://www.moneycontrol.com/news/business/stocks/hold-dr-reddys-laboratories-target-of-rs-1245-kr-choksey-12920224.html',\n",
       " 'https://www.moneycontrol.com/news/opinion/budget-snapshot-can-the-budget-help-change-the-market-trend-12920113.html',\n",
       " 'https://www.moneycontrol.com/news/business/stocks/accumulate-mphasis-target-of-rs-3200-prabhudas-lilladher-12920184.html',\n",
       " 'https://www.moneycontrol.com/promos/pro.php',\n",
       " 'https://www.moneycontrol.com/news/business/stocks/accumulate-torrent-pharmaceuticals-target-of-rs-3750-prabhudas-lilladher-12920170.html']"
      ]
     },
     "execution_count": 113,
     "metadata": {},
     "output_type": "execute_result"
    }
   ],
   "source": [
    "all_links"
   ]
  },
  {
   "cell_type": "code",
   "execution_count": null,
   "metadata": {},
   "outputs": [],
   "source": []
  }
 ],
 "metadata": {
  "kernelspec": {
   "display_name": "Python 3 (ipykernel)",
   "language": "python",
   "name": "python3"
  },
  "language_info": {
   "codemirror_mode": {
    "name": "ipython",
    "version": 3
   },
   "file_extension": ".py",
   "mimetype": "text/x-python",
   "name": "python",
   "nbconvert_exporter": "python",
   "pygments_lexer": "ipython3",
   "version": "3.12.5"
  }
 },
 "nbformat": 4,
 "nbformat_minor": 4
}
